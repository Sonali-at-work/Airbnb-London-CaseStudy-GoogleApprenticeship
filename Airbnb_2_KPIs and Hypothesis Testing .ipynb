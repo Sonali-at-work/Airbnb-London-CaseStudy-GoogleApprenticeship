{
 "cells": [
  {
   "cell_type": "markdown",
   "id": "a5e0b77e",
   "metadata": {},
   "source": [
    "KPIs and Hypothesis Testing \n",
    "- Continuing from previous notebook .Here, first import the data that was prepared for analysis in previous notebook "
   ]
  },
  {
   "cell_type": "code",
   "execution_count": 17,
   "id": "2dbcc473",
   "metadata": {},
   "outputs": [],
   "source": [
    "import pandas as pd\n",
    "import numpy as np\n",
    "import re\n",
    "from scipy.stats import kruskal  \n",
    "from scipy.stats import mannwhitneyu\n",
    "pd.options.display.max_columns = None\n",
    "pd.options.display.max_rows = None\n",
    "pd.set_option(\"display.width\", 200)\n",
    "London_airbnb=pd.read_csv(\"London_airbnb_Dashboard_df.csv\",low_memory=False)"
   ]
  },
  {
   "cell_type": "markdown",
   "id": "b9dfb03d",
   "metadata": {},
   "source": [
    "## ***Pricing KPI'S***"
   ]
  },
  {
   "cell_type": "markdown",
   "id": "643e95fb",
   "metadata": {},
   "source": [
    "### ***KPI 1: Median Price per Quarter***\n",
    "\n",
    "**Definition:** Median nightly price of *active listings* in each quarter.  \n",
    "- *Active listing* = listing with non-missing price.  \n",
    "- Median is chosen over average to reduce the effect of extreme outliers (luxury listings).  \n",
    "- This KPI shows the **typical nightly rate** in London Airbnb across time.  \n"
   ]
  },
  {
   "cell_type": "code",
   "execution_count": 20,
   "id": "f69803e0",
   "metadata": {},
   "outputs": [
    {
     "data": {
      "text/html": [
       "<div>\n",
       "<style scoped>\n",
       "    .dataframe tbody tr th:only-of-type {\n",
       "        vertical-align: middle;\n",
       "    }\n",
       "\n",
       "    .dataframe tbody tr th {\n",
       "        vertical-align: top;\n",
       "    }\n",
       "\n",
       "    .dataframe thead th {\n",
       "        text-align: right;\n",
       "    }\n",
       "</style>\n",
       "<table border=\"1\" class=\"dataframe\">\n",
       "  <thead>\n",
       "    <tr style=\"text-align: right;\">\n",
       "      <th></th>\n",
       "      <th>quarter</th>\n",
       "      <th>median_price</th>\n",
       "    </tr>\n",
       "  </thead>\n",
       "  <tbody>\n",
       "    <tr>\n",
       "      <th>0</th>\n",
       "      <td>2024Q3</td>\n",
       "      <td>130.0</td>\n",
       "    </tr>\n",
       "    <tr>\n",
       "      <th>1</th>\n",
       "      <td>2024Q4</td>\n",
       "      <td>134.0</td>\n",
       "    </tr>\n",
       "    <tr>\n",
       "      <th>2</th>\n",
       "      <td>2025Q1</td>\n",
       "      <td>120.0</td>\n",
       "    </tr>\n",
       "    <tr>\n",
       "      <th>3</th>\n",
       "      <td>2025Q2</td>\n",
       "      <td>134.0</td>\n",
       "    </tr>\n",
       "  </tbody>\n",
       "</table>\n",
       "</div>"
      ],
      "text/plain": [
       "  quarter  median_price\n",
       "0  2024Q3         130.0\n",
       "1  2024Q4         134.0\n",
       "2  2025Q1         120.0\n",
       "3  2025Q2         134.0"
      ]
     },
     "execution_count": 20,
     "metadata": {},
     "output_type": "execute_result"
    }
   ],
   "source": [
    "#taking only active listings\n",
    "active_listing_price=London_airbnb[London_airbnb[\"price\"].notna()]\n",
    "median_price_per_quarter=(active_listing_price.groupby(\"quarter\")[\"price\"].median().reset_index(name=\"median_price\"))\n",
    "median_price_per_quarter"
   ]
  },
  {
   "cell_type": "markdown",
   "id": "e77ac7fe",
   "metadata": {},
   "source": [
    "### ***Businesss Insight:***\n",
    "- Prices remain stable around (130–134)pounds, except in Q1 2025 (£120).\n",
    "- Indicates a seasonal dip in winter demand, with recovery in spring."
   ]
  },
  {
   "cell_type": "markdown",
   "id": "be310a59",
   "metadata": {},
   "source": [
    "### ***Occupancy KPI***"
   ]
  },
  {
   "cell_type": "markdown",
   "id": "e451379b",
   "metadata": {},
   "source": [
    "### ***KPI 2 - Occupancy / Availability KPIs***\n",
    "- compare seasonality in occupancy \n",
    "- how much the listed homes are being used, and how this differs across time."
   ]
  },
  {
   "cell_type": "code",
   "execution_count": 3,
   "id": "6b35f7f5",
   "metadata": {},
   "outputs": [
    {
     "data": {
      "text/html": [
       "<div>\n",
       "<style scoped>\n",
       "    .dataframe tbody tr th:only-of-type {\n",
       "        vertical-align: middle;\n",
       "    }\n",
       "\n",
       "    .dataframe tbody tr th {\n",
       "        vertical-align: top;\n",
       "    }\n",
       "\n",
       "    .dataframe thead th {\n",
       "        text-align: right;\n",
       "    }\n",
       "</style>\n",
       "<table border=\"1\" class=\"dataframe\">\n",
       "  <thead>\n",
       "    <tr style=\"text-align: right;\">\n",
       "      <th></th>\n",
       "      <th>quarter</th>\n",
       "      <th>median_occ_rate</th>\n",
       "      <th>active_listings</th>\n",
       "    </tr>\n",
       "  </thead>\n",
       "  <tbody>\n",
       "    <tr>\n",
       "      <th>0</th>\n",
       "      <td>2024Q3</td>\n",
       "      <td>0.566667</td>\n",
       "      <td>66194</td>\n",
       "    </tr>\n",
       "    <tr>\n",
       "      <th>1</th>\n",
       "      <td>2024Q4</td>\n",
       "      <td>0.533333</td>\n",
       "      <td>65778</td>\n",
       "    </tr>\n",
       "    <tr>\n",
       "      <th>2</th>\n",
       "      <td>2025Q1</td>\n",
       "      <td>0.433333</td>\n",
       "      <td>64522</td>\n",
       "    </tr>\n",
       "    <tr>\n",
       "      <th>3</th>\n",
       "      <td>2025Q2</td>\n",
       "      <td>0.700000</td>\n",
       "      <td>67144</td>\n",
       "    </tr>\n",
       "  </tbody>\n",
       "</table>\n",
       "</div>"
      ],
      "text/plain": [
       "  quarter  median_occ_rate  active_listings\n",
       "0  2024Q3         0.566667            66194\n",
       "1  2024Q4         0.533333            65778\n",
       "2  2025Q1         0.433333            64522\n",
       "3  2025Q2         0.700000            67144"
      ]
     },
     "execution_count": 3,
     "metadata": {},
     "output_type": "execute_result"
    }
   ],
   "source": [
    "active=London_airbnb[London_airbnb[\"price\"].notna()].copy()\n",
    "active[\"occ_rate_30\"] = 1 - (active[\"availability_30\"] / 30)\n",
    "active[\"occ_rate_30\"] = active[\"occ_rate_30\"].clip(0,1)  # make sure between 0–1\n",
    "\n",
    "occ_per_quarter = (\n",
    "    active.groupby(\"quarter\")[\"occ_rate_30\"]\n",
    "    .median()\n",
    "    .reset_index(name=\"median_occ_rate\")\n",
    ")\n",
    "\n",
    "active_counts = (\n",
    "    active.groupby(\"quarter\")[\"id\"]\n",
    "    .nunique()\n",
    "    .reset_index(name=\"active_listings\")\n",
    ")\n",
    "\n",
    "result = occ_per_quarter.merge(active_counts, on=\"quarter\")\n",
    "result"
   ]
  },
  {
   "cell_type": "markdown",
   "id": "808ae688",
   "metadata": {},
   "source": [
    "#### ***Business Insight*** - median_occupancy_rate - Q2(peaked 0.70) > Q3 > Q4 > Q1(demand weakens 0.43 in winter)\n",
    "#### ***Common Business Insight from results of KPI 1 and KPI 2 is***\n",
    "- For Quater Q1 both median_occupancy_rate and median_price_drop is least .A seasonal dip indicating deamd softens in winters."
   ]
  },
  {
   "cell_type": "markdown",
   "id": "35b8f343",
   "metadata": {},
   "source": [
    "## ***Occupancy and Revenue KPI's***"
   ]
  },
  {
   "cell_type": "markdown",
   "id": "dd866447",
   "metadata": {},
   "source": [
    "### ***KPI 3 - Revenue per Quarter KPIs***"
   ]
  },
  {
   "cell_type": "code",
   "execution_count": null,
   "id": "60ba9e87",
   "metadata": {},
   "outputs": [
    {
     "data": {
      "text/html": [
       "<div>\n",
       "<style scoped>\n",
       "    .dataframe tbody tr th:only-of-type {\n",
       "        vertical-align: middle;\n",
       "    }\n",
       "\n",
       "    .dataframe tbody tr th {\n",
       "        vertical-align: top;\n",
       "    }\n",
       "\n",
       "    .dataframe thead th {\n",
       "        text-align: right;\n",
       "    }\n",
       "</style>\n",
       "<table border=\"1\" class=\"dataframe\">\n",
       "  <thead>\n",
       "    <tr style=\"text-align: right;\">\n",
       "      <th></th>\n",
       "      <th>quarter</th>\n",
       "      <th>median_revenue_proxy</th>\n",
       "    </tr>\n",
       "  </thead>\n",
       "  <tbody>\n",
       "    <tr>\n",
       "      <th>0</th>\n",
       "      <td>2024Q3</td>\n",
       "      <td>5076.0</td>\n",
       "    </tr>\n",
       "    <tr>\n",
       "      <th>1</th>\n",
       "      <td>2024Q4</td>\n",
       "      <td>5328.0</td>\n",
       "    </tr>\n",
       "    <tr>\n",
       "      <th>2</th>\n",
       "      <td>2025Q1</td>\n",
       "      <td>3780.0</td>\n",
       "    </tr>\n",
       "    <tr>\n",
       "      <th>3</th>\n",
       "      <td>2025Q2</td>\n",
       "      <td>6696.0</td>\n",
       "    </tr>\n",
       "  </tbody>\n",
       "</table>\n",
       "</div>"
      ],
      "text/plain": [
       "  quarter  median_revenue_proxy\n",
       "0  2024Q3                5076.0\n",
       "1  2024Q4                5328.0\n",
       "2  2025Q1                3780.0\n",
       "3  2025Q2                6696.0"
      ]
     },
     "execution_count": 5,
     "metadata": {},
     "output_type": "execute_result"
    }
   ],
   "source": [
    "# Step 1: Active listings only\n",
    "active = London_airbnb[London_airbnb[\"price\"].notna()].copy()\n",
    "\n",
    "# Step 2: Calculating occupancy approximately\n",
    "active[\"occ_rate_30\"] = 1 - (active[\"availability_30\"] / 30)\n",
    "active[\"occ_rate_30\"] = active[\"occ_rate_30\"].clip(0, 1)\n",
    "\n",
    "# Step 3: Quarterly revenue approximately\n",
    "active[\"revenue_proxy_quarter\"] = active[\"price\"] * active[\"occ_rate_30\"] * 90\n",
    "\n",
    "# Step 4: Group by quarter → median revenue aproximately/proxy\n",
    "revenue_qtr = (\n",
    "    active.groupby(\"quarter\")[\"revenue_proxy_quarter\"]\n",
    "    .median()\n",
    "    .reset_index(name=\"median_revenue_proxy\")\n",
    ")\n",
    "revenue_qtr  \n",
    "#  median_revenue_proxy in pounds"
   ]
  },
  {
   "cell_type": "markdown",
   "id": "eb87c2c9",
   "metadata": {},
   "source": [
    "Observation - Q2(highest revenue) > Q4 > Q3 > Q1(lowest revenue)\n",
    "- Revenue in Q1 (quater 1,lowest revenue) and Q2 (quanter 2 ,highest revenue) justifies the trend observed in previous 2 KPI's in price and occupancy."
   ]
  },
  {
   "cell_type": "markdown",
   "id": "bbb9d974",
   "metadata": {},
   "source": [
    "### ***KPI 4: Room Type Contribution to Revenue & Occupancy***\n",
    "“Which room types (Entire home, Private room, Shared room, Hotel room) generate the most revenue and maintain the highest occupancy?"
   ]
  },
  {
   "cell_type": "code",
   "execution_count": 6,
   "id": "79e0b89e",
   "metadata": {},
   "outputs": [
    {
     "data": {
      "text/html": [
       "<div>\n",
       "<style scoped>\n",
       "    .dataframe tbody tr th:only-of-type {\n",
       "        vertical-align: middle;\n",
       "    }\n",
       "\n",
       "    .dataframe tbody tr th {\n",
       "        vertical-align: top;\n",
       "    }\n",
       "\n",
       "    .dataframe thead th {\n",
       "        text-align: right;\n",
       "    }\n",
       "</style>\n",
       "<table border=\"1\" class=\"dataframe\">\n",
       "  <thead>\n",
       "    <tr style=\"text-align: right;\">\n",
       "      <th></th>\n",
       "      <th>room_type</th>\n",
       "      <th>median_occ</th>\n",
       "      <th>median_revenue</th>\n",
       "      <th>total_revenue</th>\n",
       "      <th>revenue_share_%</th>\n",
       "    </tr>\n",
       "  </thead>\n",
       "  <tbody>\n",
       "    <tr>\n",
       "      <th>0</th>\n",
       "      <td>Entire home/apt</td>\n",
       "      <td>0.633333</td>\n",
       "      <td>8175.0</td>\n",
       "      <td>2.009906e+09</td>\n",
       "      <td>87.2</td>\n",
       "    </tr>\n",
       "    <tr>\n",
       "      <th>1</th>\n",
       "      <td>Hotel room</td>\n",
       "      <td>0.466667</td>\n",
       "      <td>6888.0</td>\n",
       "      <td>1.013076e+07</td>\n",
       "      <td>0.4</td>\n",
       "    </tr>\n",
       "    <tr>\n",
       "      <th>2</th>\n",
       "      <td>Private room</td>\n",
       "      <td>0.433333</td>\n",
       "      <td>2247.0</td>\n",
       "      <td>2.846953e+08</td>\n",
       "      <td>12.3</td>\n",
       "    </tr>\n",
       "    <tr>\n",
       "      <th>3</th>\n",
       "      <td>Shared room</td>\n",
       "      <td>0.066667</td>\n",
       "      <td>330.0</td>\n",
       "      <td>1.382812e+06</td>\n",
       "      <td>0.1</td>\n",
       "    </tr>\n",
       "  </tbody>\n",
       "</table>\n",
       "</div>"
      ],
      "text/plain": [
       "         room_type  median_occ  median_revenue  total_revenue  revenue_share_%\n",
       "0  Entire home/apt    0.633333          8175.0   2.009906e+09             87.2\n",
       "1       Hotel room    0.466667          6888.0   1.013076e+07              0.4\n",
       "2     Private room    0.433333          2247.0   2.846953e+08             12.3\n",
       "3      Shared room    0.066667           330.0   1.382812e+06              0.1"
      ]
     },
     "execution_count": 6,
     "metadata": {},
     "output_type": "execute_result"
    }
   ],
   "source": [
    "# Step 1: Active listings\n",
    "active = London_airbnb[London_airbnb[\"price\"].notna()].copy()\n",
    "\n",
    "# Step 2: Occupancy proxy\n",
    "active[\"occ_rate_30\"] = (1 - active[\"availability_30\"]/30).clip(0,1)\n",
    "\n",
    "# Step 3: Revenue proxy (quarterly)\n",
    "active[\"revenue_proxy_quarter\"] = active[\"price\"] * active[\"occ_rate_30\"] * 90\n",
    "\n",
    "# Step 4: Group by room_type\n",
    "room_summary = (\n",
    "    active.groupby(\"room_type\")\n",
    "    .agg(median_occ=(\"occ_rate_30\",\"median\"),\n",
    "         median_revenue=(\"revenue_proxy_quarter\",\"median\"),\n",
    "         total_revenue=(\"revenue_proxy_quarter\",\"sum\"))\n",
    "    .reset_index()\n",
    ")\n",
    "\n",
    "# Step 5: Add revenue share\n",
    "total = room_summary[\"total_revenue\"].sum()\n",
    "room_summary[\"revenue_share_%\"] = (room_summary[\"total_revenue\"]/total*100).round(1)\n",
    "\n",
    "room_summary"
   ]
  },
  {
   "cell_type": "markdown",
   "id": "9cb1928d",
   "metadata": {},
   "source": [
    "### ***Business Insight***\n",
    "- 87 % of revenue share is generated by Entire Homes(room type) and have high median occupancy too\n",
    "- Onboarding more Entire Home hosts (especially in under-supplied neighborhoods) is a direct lever for revenue growth.\n"
   ]
  },
  {
   "cell_type": "markdown",
   "id": "d6376186",
   "metadata": {},
   "source": [
    "### ***KPI 5: Property Type Contribution to Revenue & Occupancy***"
   ]
  },
  {
   "cell_type": "code",
   "execution_count": null,
   "id": "c0502ded",
   "metadata": {},
   "outputs": [
    {
     "name": "stdout",
     "output_type": "stream",
     "text": [
      "          room_type                property_type  listings  median_occ  median_revenue  total_revenue  revenue_share_%\n",
      "21  Entire home/apt           Entire rental unit     47110    0.633333          7866.0   1.206121e+09             53.1\n",
      "17  Entire home/apt                  Entire home      9656    0.566667         10140.0   3.495877e+08             15.4\n",
      "13  Entire home/apt                 Entire condo     10114    0.666667          8505.0   2.713681e+08             12.0\n",
      "69     Private room  Private room in rental unit     12021    0.466667          2376.0   1.183302e+08              5.2\n",
      "22  Entire home/apt    Entire serviced apartment      2238    0.600000          8250.0   8.287598e+07              3.7\n",
      "61     Private room         Private room in home     11654    0.366667          1683.0   7.488384e+07              3.3\n",
      "23  Entire home/apt             Entire townhouse       946    0.733333         16711.5   6.220743e+07              2.7\n",
      "55     Private room        Private room in condo      3851    0.566667          3000.0   3.707180e+07              1.6\n",
      "83     Private room                Room in hotel      1181    0.300000          2922.0   1.701182e+07              0.7\n",
      "76     Private room    Private room in townhouse      1047    0.633333          2964.0   1.094690e+07              0.5\n"
     ]
    }
   ],
   "source": [
    "# ---------- 1) ACTIVE LISTINGS ONLY ----------\n",
    "active = London_airbnb[London_airbnb[\"price\"].notna()].copy()\n",
    "active = active[active[\"availability_30\"].notna()].copy()\n",
    "\n",
    "# ---------- 2) LISTING-LEVEL METRICS ----------\n",
    "active[\"occ_rate_30\"] = (1 - active[\"availability_30\"]/30).clip(0,1)\n",
    "active[\"revenue_proxy_quarter\"] = active[\"price\"] * active[\"occ_rate_30\"] * 90  # ~3 months per quarter\n",
    "\n",
    "# ---------- 3) GROUP: (room_type × property_type) ----------\n",
    "combo = (\n",
    "    active.groupby([\"room_type\",\"property_type\"])\n",
    "          .agg(\n",
    "              listings=(\"id\",\"nunique\"),\n",
    "              median_occ=(\"occ_rate_30\",\"median\"),\n",
    "              median_revenue=(\"revenue_proxy_quarter\",\"median\"),\n",
    "              total_revenue=(\"revenue_proxy_quarter\",\"sum\")\n",
    "          )\n",
    "          .reset_index()\n",
    ")\n",
    "\n",
    "# Drop very small combos\n",
    "MIN_LISTINGS = 100\n",
    "combo = combo[combo[\"listings\"] >= MIN_LISTINGS].copy()\n",
    "\n",
    "# ---------- 4) REVENUE SHARE & TOP-10 ----------\n",
    "combo[\"revenue_share_%\"] = (combo[\"total_revenue\"] / combo[\"total_revenue\"].sum() * 100).round(1)\n",
    "combo_top10 = combo.sort_values(\"total_revenue\", ascending=False).head(10).copy()\n",
    "\n",
    "# ---------- 5) RESULT ----------\n",
    "print(combo_top10)\n"
   ]
  },
  {
   "cell_type": "markdown",
   "id": "632e5865",
   "metadata": {},
   "source": [
    "### ***Business Insights***\n",
    "- Strategic Supply Growth: Airbnb should prioritize onboarding more entire rental units, homes, and condos .\n",
    "- Segment Marketing: Private rooms still serve budget travelers — important for inclusivity and occupancy stability."
   ]
  },
  {
   "cell_type": "markdown",
   "id": "218ba900",
   "metadata": {},
   "source": [
    "## ***Host / Supply Dynamics KPIs***"
   ]
  },
  {
   "cell_type": "markdown",
   "id": "ca8d6c87",
   "metadata": {},
   "source": [
    "### ***KPI 7 - Does being a Superhost actually influences revenue a lot?***\n",
    "- A Superhost is a recognition badge Airbnb gives to hosts who consistently deliver exceptional guest experiences."
   ]
  },
  {
   "cell_type": "code",
   "execution_count": 18,
   "id": "29ec081c",
   "metadata": {},
   "outputs": [
    {
     "name": "stdout",
     "output_type": "stream",
     "text": [
      "{'non_superhost_revenue': 1675986849.0, 'superhost_revenue': 630127501.5, 'superhost_share_%': np.float64(27.3)}\n"
     ]
    },
    {
     "name": "stderr",
     "output_type": "stream",
     "text": [
      "C:\\Users\\easntop\\AppData\\Local\\Temp\\ipykernel_13504\\1414626734.py:19: FutureWarning: Downcasting object dtype arrays on .fillna, .ffill, .bfill is deprecated and will change in a future version. Call result.infer_objects(copy=False) instead. To opt-in to the future behavior, set `pd.set_option('future.no_silent_downcasting', True)`\n",
      "  one_year[\"host_is_superhost\"] = (one_year[\"host_is_superhost\"].astype(str).str.strip().str.lower().map(sh_map)).fillna(False).astype(bool)\n"
     ]
    }
   ],
   "source": [
    "# 1) Active rows with the inputs required\n",
    "active = London_airbnb[London_airbnb[\"price\"].notna()].copy()\n",
    "active = active[active[\"availability_30\"].notna()].copy()\n",
    "\n",
    "# 2) Making quarter a Period and also keep a string form for easy filtering/printing\n",
    "active[\"quarter\"] = pd.PeriodIndex(active[\"quarter\"], freq=\"Q\")\n",
    "active[\"quarter_str\"] = active[\"quarter\"].astype(str)\n",
    "\n",
    "# Keep exactly the four quarters that make continuous year\n",
    "wanted_quarters = {\"2024Q3\",\"2024Q4\",\"2025Q1\",\"2025Q2\"}\n",
    "one_year = active[active[\"quarter_str\"].isin(wanted_quarters)].copy()\n",
    "\n",
    "# 3) Occupancy proxy and revenue proxy (quarter)\n",
    "one_year[\"occ_rate_30\"] = (1 - one_year[\"availability_30\"]/30).clip(0,1)\n",
    "one_year[\"revenue_proxy_quarter\"] = one_year[\"price\"] * one_year[\"occ_rate_30\"] * 90\n",
    "\n",
    "# 4) Normalize superhost flag to boolean \n",
    "sh_map = {\"t\": True, \"f\": False }\n",
    "one_year[\"host_is_superhost\"] = (one_year[\"host_is_superhost\"].astype(str).str.strip().str.lower().map(sh_map)).fillna(False).astype(bool)\n",
    "\n",
    "# 5) Aggregate totals across the whole 12-month window\n",
    "totals = (one_year.groupby(\"host_is_superhost\")[\"revenue_proxy_quarter\"]\n",
    "          .sum()\n",
    "          .reindex([False, True])       # ensure both buckets exist\n",
    "          .fillna(0))\n",
    "\n",
    "non_sh = totals.loc[False]\n",
    "sh     = totals.loc[True]\n",
    "superhost_share_pct = np.nan if (sh+non_sh)==0 else round(sh/(sh+non_sh)*100, 1)\n",
    "\n",
    "print({\n",
    "    \"non_superhost_revenue\": float(non_sh),\n",
    "    \"superhost_revenue\": float(sh),\n",
    "    \"superhost_share_%\": superhost_share_pct\n",
    "})"
   ]
  },
  {
   "cell_type": "markdown",
   "id": "d22e8d96",
   "metadata": {},
   "source": [
    "### ***Business Insight***\n",
    "- Superhost_share_ contribute 27% of the Airbnb's total revenue because most listings are non-Superhost.\n",
    "- So being a superhost doesn't contribute largely in Airbnb's revenue."
   ]
  },
  {
   "cell_type": "markdown",
   "id": "ac30dccf",
   "metadata": {},
   "source": [
    "## ***Trust & Guest Experience KPI's***"
   ]
  },
  {
   "cell_type": "markdown",
   "id": "fa461b7b",
   "metadata": {},
   "source": [
    "### ***KPI 8 -Reviews / Trust KPIs in Review Quality per Quarter***\n",
    "- Average of cleanliness, location, value scores → median each quarter.\n",
    "- Business Insight - Assesssing guest experience across each quarter for active listings.\n"
   ]
  },
  {
   "cell_type": "code",
   "execution_count": null,
   "id": "c3c471d0",
   "metadata": {},
   "outputs": [
    {
     "data": {
      "text/html": [
       "<div>\n",
       "<style scoped>\n",
       "    .dataframe tbody tr th:only-of-type {\n",
       "        vertical-align: middle;\n",
       "    }\n",
       "\n",
       "    .dataframe tbody tr th {\n",
       "        vertical-align: top;\n",
       "    }\n",
       "\n",
       "    .dataframe thead th {\n",
       "        text-align: right;\n",
       "    }\n",
       "</style>\n",
       "<table border=\"1\" class=\"dataframe\">\n",
       "  <thead>\n",
       "    <tr style=\"text-align: right;\">\n",
       "      <th></th>\n",
       "      <th>quarter</th>\n",
       "      <th>median_review_quality</th>\n",
       "    </tr>\n",
       "  </thead>\n",
       "  <tbody>\n",
       "    <tr>\n",
       "      <th>0</th>\n",
       "      <td>2024Q3</td>\n",
       "      <td>4.756667</td>\n",
       "    </tr>\n",
       "    <tr>\n",
       "      <th>1</th>\n",
       "      <td>2024Q4</td>\n",
       "      <td>4.760000</td>\n",
       "    </tr>\n",
       "    <tr>\n",
       "      <th>2</th>\n",
       "      <td>2025Q1</td>\n",
       "      <td>4.766667</td>\n",
       "    </tr>\n",
       "    <tr>\n",
       "      <th>3</th>\n",
       "      <td>2025Q2</td>\n",
       "      <td>4.763333</td>\n",
       "    </tr>\n",
       "  </tbody>\n",
       "</table>\n",
       "</div>"
      ],
      "text/plain": [
       "  quarter  median_review_quality\n",
       "0  2024Q3               4.756667\n",
       "1  2024Q4               4.760000\n",
       "2  2025Q1               4.766667\n",
       "3  2025Q2               4.763333"
      ]
     },
     "execution_count": 9,
     "metadata": {},
     "output_type": "execute_result"
    }
   ],
   "source": [
    "# Step 1:I Keep only active listings\n",
    "active = London_airbnb[London_airbnb[\"price\"].notna()].copy()\n",
    "\n",
    "# Step 2: Compute average quality score for each listing\n",
    "quality_cols = [\"review_scores_cleanliness\", \"review_scores_location\", \"review_scores_value\"]\n",
    "active[\"review_quality\"] = active[quality_cols].mean(axis=1, skipna=True)\n",
    "\n",
    "# Step 3: Group by quarter → median review quality\n",
    "review_quality_qtr = (\n",
    "    active.groupby(\"quarter\")[\"review_quality\"]\n",
    "    .median()\n",
    "    .reset_index(name=\"median_review_quality\")\n",
    ")\n",
    "\n",
    "review_quality_qtr"
   ]
  },
  {
   "cell_type": "markdown",
   "id": "b2cb9f23",
   "metadata": {},
   "source": [
    "### ***Business Insights***\n",
    "Stability\n",
    "- guests are happy.\n",
    "- No major fluctuation across quarters.\n",
    "- Unlike price and occupancy, quality is not seasonal — it remains stable.\n",
    "- Airbnb can highlight this in marketing as: “London listings maintain consistently high guest ratings.”"
   ]
  },
  {
   "cell_type": "markdown",
   "id": "83608556",
   "metadata": {},
   "source": [
    "### ***Hypothesis Testing***"
   ]
  },
  {
   "cell_type": "markdown",
   "id": "3a72b340",
   "metadata": {},
   "source": [
    "***Hypothesis 1***\n",
    "- ***Null Hypothesis (H0):*** Prices in winter (Q1) are the same as in other quarters.\n",
    "- ***Alternative Hypothesis (H1):*** Prices in winter (Q1) are significantly lower than in other quarters.\n",
    "- This is a one-tailed test .\n",
    "- I'll compare Q1 vs other quarters means 2 groups\n",
    "- Test used : Mann–Whitney U test (a.k.a. Wilcoxon rank-sum) because Non-parametric, compares two independent samples"
   ]
  },
  {
   "cell_type": "code",
   "execution_count": null,
   "id": "cafa5d0b",
   "metadata": {},
   "outputs": [
    {
     "name": "stdout",
     "output_type": "stream",
     "text": [
      "Mann - Whitney U test: U=5965896631.00, p=0.00000\n",
      "Q1 Median Price = 120.00, Non-Q1 Median Price = 133.00\n"
     ]
    }
   ],
   "source": [
    "# Active listings only (non-null price)\n",
    "active = London_airbnb[London_airbnb[\"price\"].notna()].copy()\n",
    "\n",
    "# Spliting quarters: Q1 vs All other quarters\n",
    "q1_prices = active.loc[active[\"quarter\"] == \"2025Q1\", \"price\"]\n",
    "non_q1_prices = active.loc[active[\"quarter\"] != \"2025Q1\", \"price\"]\n",
    "\n",
    "# Mann–Whitney U test\n",
    "stat, p = mannwhitneyu(q1_prices, non_q1_prices, alternative=\"two-sided\")\n",
    "\n",
    "# Medians for context\n",
    "median_q1 = q1_prices.median()\n",
    "median_non_q1 = non_q1_prices.median()\n",
    "\n",
    "print(f\"Mann - Whitney U test: U={stat:.2f}, p={p:.5f}\")\n",
    "print(f\"Q1 Median Price = {median_q1:.2f}, Non-Q1 Median Price = {median_non_q1:.2f}\")\n"
   ]
  },
  {
   "cell_type": "markdown",
   "id": "fa90c5fa",
   "metadata": {},
   "source": [
    "***Conclusion*** Since 𝑝 < 0.05 ( is extremely small), reject the null hypothesis.\n",
    "→ Prices in Q1 are significantly different from other quarters."
   ]
  },
  {
   "cell_type": "markdown",
   "id": "07032466",
   "metadata": {},
   "source": [
    "***Hypothesis 2***\n",
    "- ***Null Hypothesis (H0):*** Every pair of quarters has same occupancy rates..\n",
    "- ***Alternative Hypothesis (H1):*** Every pair of quarters has significantly different occupancy rates.\n",
    "- Since we are comapring more than 2 groups .\n",
    "- Test used : Kruskal–Wallis  test ."
   ]
  },
  {
   "cell_type": "code",
   "execution_count": null,
   "id": "9e8393eb",
   "metadata": {},
   "outputs": [
    {
     "name": "stdout",
     "output_type": "stream",
     "text": [
      "Kruskal-Wallis H=4977.21, p=0.00000\n"
     ]
    }
   ],
   "source": [
    "active = London_airbnb[London_airbnb[\"price\"].notna()].copy()\n",
    "active[\"occ_rate_30\"] = (1 - active[\"availability_30\"]/30).clip(0,1)\n",
    "\n",
    "#Group by Quarter\n",
    "quarters = {}\n",
    "for q, subset in active.groupby(\"quarter\"):\n",
    "    quarters[q] = subset[\"occ_rate_30\"].dropna().values\n",
    "\n",
    "# (Kruskal–Wallis) \n",
    "stat, p = kruskal(*quarters.values())\n",
    "print(f\"Kruskal-Wallis H={stat:.2f}, p={p:.5f}\")\n",
    "\n"
   ]
  },
  {
   "cell_type": "markdown",
   "id": "aaba1a06",
   "metadata": {},
   "source": [
    "***Hypothesis 3***\n",
    "- ***Null Hypothesis (H₀):*** Median revenue of entire homes/apartments = median revenue of private/shared rooms.\n",
    "(no significant difference in earnings between property types)\n",
    "- ***Alternative Hypothesis (H₁):*** Median revenue of entire homes/apartments ≠ median revenue of private/shared rooms.\n",
    "(significant revenue difference exists)\n",
    "- Revenue distribution is heavily skewed ( skewness is > 60).\n",
    "So, we use non-parametric tests:\n",
    "Mann–Whitney U test if comparing two groups (Entire home vs Private/Shared combined)."
   ]
  },
  {
   "cell_type": "code",
   "execution_count": 19,
   "id": "84358f20",
   "metadata": {},
   "outputs": [
    {
     "name": "stdout",
     "output_type": "stream",
     "text": [
      "Mann Whitney U test: U=11941933128.00, p=0.00000\n",
      "Entire Home Median Revenue = 8175\n",
      "Private/Shared Median Revenue = 2208\n"
     ]
    }
   ],
   "source": [
    "# Step 1: For Active listings only\n",
    "active = London_airbnb[London_airbnb[\"price\"].notna()].copy()\n",
    "active[\"occ_rate_30\"] = (1 - active[\"availability_30\"] / 30).clip(0,1)\n",
    "active[\"revenue_proxy_quarter\"] = active[\"price\"] * active[\"occ_rate_30\"] * 90\n",
    "\n",
    "# Step 2: Define groups\n",
    "entire = active[active[\"room_type\"]==\"Entire home/apt\"][\"revenue_proxy_quarter\"]\n",
    "non_entire = active[active[\"room_type\"].isin([\"Private room\",\"Shared room\"])][\"revenue_proxy_quarter\"]\n",
    "\n",
    "# Step 3: Mann–Whitney U test\n",
    "u_stat, p_val = mannwhitneyu(entire, non_entire, alternative=\"two-sided\")\n",
    "\n",
    "print(f\"Mann Whitney U test: U={u_stat:.2f}, p={p_val:.5f}\")\n",
    "print(f\"Entire Home Median Revenue = {entire.median():.0f}\")\n",
    "print(f\"Private/Shared Median Revenue = {non_entire.median():.0f}\")\n"
   ]
  },
  {
   "cell_type": "markdown",
   "id": "7fd371ad",
   "metadata": {},
   "source": [
    "***Conclusion***\n",
    "- As p(0.0000) is < 0.05: reject null means Entire homes earn significantly higher revenue.\n",
    "- Medians show the magnitude of difference.\n",
    "- Entire homes dominate Airbnb revenue, with median revenue of 8175 pounds vs 2208 pounds for private/shared.\n",
    "- This validates that guests prefer entire properties, and hosts listing entire homes earn substantially more."
   ]
  },
  {
   "cell_type": "markdown",
   "id": "21d97214",
   "metadata": {},
   "source": [
    "***Hypothesis 4***\n",
    "- ***Null (H₀):*** The distribution of revenue per listing is the same across quarters (no seasonal effect).\n",
    "- ***Alternative (H₁):*** At least one quarter’s revenue distribution differs significantly (seasonality exists).\n",
    "- here  >2 groups will be compared (4 quarters: Q3, Q4, Q1, Q2) and revenue is  (skewed)\n",
    "- Test used is Kruskal–Wallis H-test (non-parametric ANOVA equivalent).\n"
   ]
  },
  {
   "cell_type": "code",
   "execution_count": 14,
   "id": "5a9a9704",
   "metadata": {},
   "outputs": [
    {
     "name": "stdout",
     "output_type": "stream",
     "text": [
      "Kruskal-Wallis H-test: H=5198.84, p=0.00000\n"
     ]
    }
   ],
   "source": [
    "# Using only active listings\n",
    "active = London_airbnb[London_airbnb[\"price\"].notna()].copy()\n",
    "\n",
    "# Revenue proxy per quarter\n",
    "active[\"occ_rate_30\"] = (1 - active[\"availability_30\"]/30).clip(0,1)\n",
    "active[\"revenue_proxy_quarter\"] = active[\"price\"] * active[\"occ_rate_30\"] * 90\n",
    "\n",
    "# Split revenue by quarter\n",
    "groups = [g[\"revenue_proxy_quarter\"].values for _, g in active.groupby(\"quarter\")]\n",
    "\n",
    "# Kruskal-Wallis test\n",
    "stat, p = kruskal(*groups)\n",
    "print(f\"Kruskal-Wallis H-test: H={stat:.2f}, p={p:.5f}\")"
   ]
  },
  {
   "cell_type": "markdown",
   "id": "3b8f30de",
   "metadata": {},
   "source": [
    "Since p < 0.05 rejecting null hypothesis H₀ → revenue differs significantly across quarters."
   ]
  },
  {
   "cell_type": "markdown",
   "id": "e4ca6a65",
   "metadata": {},
   "source": [
    "### ***Hypothesis 5*** \n",
    "- Null (H₀): Review quality scores are the same across all quarters (no seasonal variation).\n",
    "- Alternative (H₁): At least one quarter has significantly different review quality scores.\n",
    "- Review scores are bounded (0–5 scale) and not normally distributed.\n",
    "- Here for comparing 4 groups (quarters) Kruskal–Wallis test (non-parametric )will be used."
   ]
  },
  {
   "cell_type": "code",
   "execution_count": 15,
   "id": "6d894005",
   "metadata": {},
   "outputs": [
    {
     "name": "stdout",
     "output_type": "stream",
     "text": [
      "Kruskal-Wallis H-test: H=35.57, p=0.00000\n",
      "quarter\n",
      "2024Q3    4.756667\n",
      "2024Q4    4.760000\n",
      "2025Q1    4.766667\n",
      "2025Q2    4.763333\n",
      "Name: review_quality, dtype: float64\n"
     ]
    }
   ],
   "source": [
    "active = London_airbnb[London_airbnb[\"price\"].notna()].copy()\n",
    "\n",
    "# Compute review quality score\n",
    "active[\"review_quality\"] = active[[\"review_scores_cleanliness\",\"review_scores_location\",\"review_scores_value\"]].mean(axis=1)\n",
    "\n",
    "# Group review quality by quarter\n",
    "groups = [g[\"review_quality\"].dropna().values \n",
    "          for _, g in active.groupby(\"quarter\")]\n",
    "\n",
    "# Kruskal-Wallis test\n",
    "stat, p = kruskal(*groups)\n",
    "print(f\"Kruskal-Wallis H-test: H={stat:.2f}, p={p:.5f}\")\n",
    "\n",
    "# Also checking medians for context\n",
    "median_scores = active.groupby(\"quarter\")[\"review_quality\"].median()\n",
    "print(median_scores)\n"
   ]
  },
  {
   "cell_type": "markdown",
   "id": "ce5388b5",
   "metadata": {},
   "source": [
    "Here, p < 0.05 -> Rejecting H₀ → There are significant differences \n",
    "- Conclusion : Review quality scores are stable — median differences are less than 0.01, which is negligible for customer experience.\n",
    "- This is a  case where statistical significance not equals business significance. With huge sample sizes, even micro-differences become significant.\n"
   ]
  }
 ],
 "metadata": {
  "kernelspec": {
   "display_name": "Python 3",
   "language": "python",
   "name": "python3"
  },
  "language_info": {
   "codemirror_mode": {
    "name": "ipython",
    "version": 3
   },
   "file_extension": ".py",
   "mimetype": "text/x-python",
   "name": "python",
   "nbconvert_exporter": "python",
   "pygments_lexer": "ipython3",
   "version": "3.12.6"
  }
 },
 "nbformat": 4,
 "nbformat_minor": 5
}
